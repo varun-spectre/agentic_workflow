{
 "cells": [
  {
   "cell_type": "code",
   "execution_count": 1,
   "metadata": {},
   "outputs": [],
   "source": [
    "import sys\n",
    "from pathlib import Path\n",
    "sys.path.append(str(Path().absolute().parent))\n",
    "from db_setup.structured_db import StructuredDB"
   ]
  },
  {
   "cell_type": "code",
   "execution_count": 2,
   "metadata": {},
   "outputs": [
    {
     "name": "stdout",
     "output_type": "stream",
     "text": [
      "Creating users table...\n",
      "Creating products table...\n"
     ]
    }
   ],
   "source": [
    "# Path to local SQLite DB file\n",
    "DB_PATH = \"my_data.db\"\n",
    "\n",
    "# Use one instance to create tables\n",
    "db = StructuredDB(db_path=DB_PATH)\n",
    "\n",
    "sql_users = \"\"\"\n",
    "CREATE TABLE IF NOT EXISTS users (\n",
    "    id INTEGER PRIMARY KEY,\n",
    "    name TEXT,\n",
    "    email TEXT\n",
    ");\n",
    "\"\"\"\n",
    "\n",
    "sql_products = \"\"\"\n",
    "CREATE TABLE IF NOT EXISTS products (\n",
    "    id INTEGER PRIMARY KEY,\n",
    "    name TEXT,\n",
    "    price FLOAT\n",
    ");\n",
    "\"\"\"\n",
    "\n",
    "print(\"Creating users table...\")\n",
    "db.table_name = \"users\"\n",
    "db.create_table(sql_users)\n",
    "\n",
    "print(\"Creating products table...\")\n",
    "db.table_name = \"products\"\n",
    "db.create_table(sql_products)\n",
    "\n",
    "db.close()  # close initial instance used for table creation"
   ]
  },
  {
   "cell_type": "code",
   "execution_count": 3,
   "metadata": {},
   "outputs": [
    {
     "name": "stdout",
     "output_type": "stream",
     "text": [
      "📥 Users Table: [{'id': 1, 'name': 'Alice', 'email': 'alice@example.com'}, {'id': 2, 'name': 'Bob', 'email': 'bob@example.com'}]\n",
      "📥 Products Table: [{'id': 101, 'name': 'Laptop', 'price': 999.99}, {'id': 102, 'name': 'Smartphone', 'price': 599.99}]\n"
     ]
    }
   ],
   "source": [
    "# Insert data using dedicated instances\n",
    "users_db = StructuredDB(db_path=DB_PATH, table_name=\"users\")\n",
    "products_db = StructuredDB(db_path=DB_PATH, table_name=\"products\")\n",
    "\n",
    "# Insert dummy data\n",
    "users_db.insert_row({\"id\": 1, \"name\": \"Alice\", \"email\": \"alice@example.com\"})\n",
    "users_db.insert_row({\"id\": 2, \"name\": \"Bob\", \"email\": \"bob@example.com\"})\n",
    "\n",
    "products_db.insert_row({\"id\": 101, \"name\": \"Laptop\", \"price\": 999.99})\n",
    "products_db.insert_row({\"id\": 102, \"name\": \"Smartphone\", \"price\": 599.99})\n",
    "\n",
    "# Read to confirm\n",
    "print(\"📥 Users Table:\", users_db.read_rows())\n",
    "print(\"📥 Products Table:\", products_db.read_rows())\n",
    "\n",
    "# Close connections\n",
    "users_db.close()\n",
    "products_db.close()\n"
   ]
  },
  {
   "cell_type": "markdown",
   "metadata": {},
   "source": [
    "### Moved the db to the data folder"
   ]
  },
  {
   "cell_type": "code",
   "execution_count": 5,
   "metadata": {},
   "outputs": [],
   "source": [
    "import os\n",
    "DB_PATH = os.path.join(Path().absolute().parent, \"data\", \"my_data.db\")\n"
   ]
  },
  {
   "cell_type": "code",
   "execution_count": 6,
   "metadata": {},
   "outputs": [],
   "source": [
    "users_db = StructuredDB(db_path=DB_PATH, table_name=\"users\")\n",
    "products_db = StructuredDB(db_path=DB_PATH, table_name=\"products\")"
   ]
  },
  {
   "cell_type": "code",
   "execution_count": 8,
   "metadata": {},
   "outputs": [
    {
     "data": {
      "text/plain": [
       "[{'id': 1, 'name': 'Alice', 'email': 'alice@example.com'},\n",
       " {'id': 2, 'name': 'Bob', 'email': 'bob@example.com'}]"
      ]
     },
     "execution_count": 8,
     "metadata": {},
     "output_type": "execute_result"
    }
   ],
   "source": [
    "# display the db    \n",
    "users_db.read_rows()"
   ]
  }
 ],
 "metadata": {
  "kernelspec": {
   "display_name": "agent",
   "language": "python",
   "name": "python3"
  },
  "language_info": {
   "codemirror_mode": {
    "name": "ipython",
    "version": 3
   },
   "file_extension": ".py",
   "mimetype": "text/x-python",
   "name": "python",
   "nbconvert_exporter": "python",
   "pygments_lexer": "ipython3",
   "version": "3.12.9"
  }
 },
 "nbformat": 4,
 "nbformat_minor": 2
}
