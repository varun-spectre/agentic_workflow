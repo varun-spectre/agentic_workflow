{
 "cells": [
  {
   "cell_type": "code",
   "execution_count": 7,
   "metadata": {},
   "outputs": [],
   "source": [
    "from db_setup.structured_db import StructuredDB"
   ]
  },
  {
   "cell_type": "code",
   "execution_count": 8,
   "metadata": {},
   "outputs": [
    {
     "name": "stdout",
     "output_type": "stream",
     "text": [
      "📥 Reading all rows:\n",
      "{'id': 3, 'created_at': '2025-04-13T22:41:18.804962+00:00', 'messages': 'HI'}\n",
      "{'id': 4, 'created_at': '2025-04-13T22:44:30.000081+00:00', 'messages': 'HI'}\n",
      "{'id': 2, 'created_at': '2025-04-13T22:39:41.762562+00:00', 'messages': 'new_value'}\n",
      "\n",
      "✏️ Updating a row with ID 1...\n",
      "[{'id': 2, 'created_at': '2025-04-13T22:39:41.762562+00:00', 'messages': 'new_value'}]\n"
     ]
    }
   ],
   "source": [
    "# Initialize\n",
    "db = StructuredDB()\n",
    "    \n",
    "print(\"📥 Reading all rows:\")\n",
    "rows = db.read_rows()\n",
    "for row in rows:\n",
    "    print(row)\n",
    "\n",
    "print(\"\\n✏️ Updating a row with ID 1...\")\n",
    "updated = db.update_row(2, {\"messages\": \"new_value\"})\n",
    "print(updated)"
   ]
  },
  {
   "cell_type": "code",
   "execution_count": null,
   "metadata": {},
   "outputs": [],
   "source": []
  }
 ],
 "metadata": {
  "kernelspec": {
   "display_name": "Python 3",
   "language": "python",
   "name": "python3"
  },
  "language_info": {
   "codemirror_mode": {
    "name": "ipython",
    "version": 3
   },
   "file_extension": ".py",
   "mimetype": "text/x-python",
   "name": "python",
   "nbconvert_exporter": "python",
   "pygments_lexer": "ipython3",
   "version": "3.13.0"
  }
 },
 "nbformat": 4,
 "nbformat_minor": 2
}
