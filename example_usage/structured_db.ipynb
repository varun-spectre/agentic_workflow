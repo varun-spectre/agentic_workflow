{
 "cells": [
  {
   "cell_type": "code",
   "execution_count": 1,
   "metadata": {},
   "outputs": [],
   "source": [
    "import sys\n",
    "from pathlib import Path\n",
    "sys.path.append(str(Path().absolute().parent))\n",
    "from db_setup.structured_db import StructuredDB"
   ]
  },
  {
   "cell_type": "code",
   "execution_count": 2,
   "metadata": {},
   "outputs": [
    {
     "name": "stdout",
     "output_type": "stream",
     "text": [
      "Creating users table...\n",
      "Creating products table...\n"
     ]
    },
    {
     "data": {
      "text/plain": [
       "{'status': 'success'}"
      ]
     },
     "execution_count": 2,
     "metadata": {},
     "output_type": "execute_result"
    }
   ],
   "source": [
    "db = StructuredDB()\n",
    "\n",
    "sql_users = \"\"\"\n",
    "CREATE TABLE IF NOT EXISTS public.users (\n",
    "    id INTEGER PRIMARY KEY,\n",
    "    name TEXT,\n",
    "    email TEXT\n",
    ");\n",
    "\"\"\"\n",
    "\n",
    "sql_products = \"\"\"\n",
    "CREATE TABLE IF NOT EXISTS public.products (\n",
    "    id INTEGER PRIMARY KEY,\n",
    "    name TEXT,\n",
    "    price FLOAT\n",
    ");\n",
    "\"\"\"\n",
    "\n",
    "print(\"Creating users table...\")\n",
    "db.create_table(sql_users)\n",
    "\n",
    "print(\"Creating products table...\")\n",
    "db.create_table(sql_products)"
   ]
  },
  {
   "cell_type": "code",
   "execution_count": 3,
   "metadata": {},
   "outputs": [
    {
     "name": "stdout",
     "output_type": "stream",
     "text": [
      "📥 Users Table: [{'id': 1, 'name': 'Alice', 'email': 'alice@example.com'}, {'id': 2, 'name': 'Bob', 'email': 'bob@example.com'}]\n",
      "📥 Products Table: [{'id': 101, 'name': 'Laptop', 'price': 999.99}, {'id': 102, 'name': 'Smartphone', 'price': 599.99}]\n"
     ]
    }
   ],
   "source": [
    "# Initialize with correct table names\n",
    "users_db = StructuredDB(table_name=\"users\")\n",
    "products_db = StructuredDB(table_name=\"products\")\n",
    "\n",
    "# Create dummy rows\n",
    "users_db.insert_row({\"id\": 1, \"name\": \"Alice\", \"email\": \"alice@example.com\"})\n",
    "users_db.insert_row({\"id\": 2, \"name\": \"Bob\", \"email\": \"bob@example.com\"})\n",
    "\n",
    "products_db.insert_row({\"id\": 101, \"name\": \"Laptop\", \"price\": 999.99})\n",
    "products_db.insert_row({\"id\": 102, \"name\": \"Smartphone\", \"price\": 599.99})\n",
    "\n",
    "# Read to confirm\n",
    "print(\"📥 Users Table:\", users_db.read_rows())\n",
    "print(\"📥 Products Table:\", products_db.read_rows())\n"
   ]
  },
  {
   "cell_type": "code",
   "execution_count": null,
   "metadata": {},
   "outputs": [],
   "source": []
  }
 ],
 "metadata": {
  "kernelspec": {
   "display_name": "agent",
   "language": "python",
   "name": "python3"
  },
  "language_info": {
   "codemirror_mode": {
    "name": "ipython",
    "version": 3
   },
   "file_extension": ".py",
   "mimetype": "text/x-python",
   "name": "python",
   "nbconvert_exporter": "python",
   "pygments_lexer": "ipython3",
   "version": "3.12.9"
  }
 },
 "nbformat": 4,
 "nbformat_minor": 2
}
