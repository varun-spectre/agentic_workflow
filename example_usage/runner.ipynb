{
 "cells": [
  {
   "cell_type": "code",
   "execution_count": 2,
   "metadata": {},
   "outputs": [],
   "source": [
    "import sys\n",
    "from pathlib import Path\n",
    "sys.path.append(str(Path().absolute().parent))"
   ]
  },
  {
   "cell_type": "code",
   "execution_count": 1,
   "metadata": {},
   "outputs": [],
   "source": [
    "def dummy_llm_fn(prompt: str) -> str:\n",
    "    return \"\"\"<plan>\n",
    "    I will calculate the average of [1, 2, 3].\n",
    "    </plan>\n",
    "\n",
    "    <execute>\n",
    "    result = sum([1, 2, 3]) / 3\n",
    "    </execute>\n",
    "\n",
    "    <solution>\n",
    "    The average is 2.0\n",
    "    </solution>\"\"\"\n"
   ]
  },
  {
   "cell_type": "code",
   "execution_count": 3,
   "metadata": {},
   "outputs": [
    {
     "name": "stdout",
     "output_type": "stream",
     "text": [
      "\n",
      "🧠 Step 1\n",
      "\n",
      "📝 Plan:\n",
      "I will calculate the average of [1, 2, 3].\n",
      "\n",
      "⚙️ Executing Code:\n",
      "result = sum([1, 2, 3]) / 3\n",
      "❌ Error: Tool 'code_executor' is not allowed or not registered. (Retry 1/3)\n",
      "\n",
      "🧠 Step 2\n",
      "\n",
      "📝 Plan:\n",
      "I will calculate the average of [1, 2, 3].\n",
      "\n",
      "⚙️ Executing Code:\n",
      "result = sum([1, 2, 3]) / 3\n",
      "❌ Error: Tool 'code_executor' is not allowed or not registered. (Retry 2/3)\n",
      "\n",
      "🧠 Step 3\n",
      "\n",
      "📝 Plan:\n",
      "I will calculate the average of [1, 2, 3].\n",
      "\n",
      "⚙️ Executing Code:\n",
      "result = sum([1, 2, 3]) / 3\n",
      "❌ Error: Tool 'code_executor' is not allowed or not registered. (Retry 3/3)\n",
      "🛑 Max retries reached.\n"
     ]
    }
   ],
   "source": [
    "from src.config import AgentConfig\n",
    "from src.runner import AgentRunner\n",
    "from src.memory import Memory\n",
    "\n",
    "config = AgentConfig()\n",
    "memory = Memory()\n",
    "runner = AgentRunner(config, memory, dummy_llm_fn)\n",
    "runner.run(\"Find the average of [1, 2, 3]\")"
   ]
  }
 ],
 "metadata": {
  "kernelspec": {
   "display_name": "agent",
   "language": "python",
   "name": "python3"
  },
  "language_info": {
   "codemirror_mode": {
    "name": "ipython",
    "version": 3
   },
   "file_extension": ".py",
   "mimetype": "text/x-python",
   "name": "python",
   "nbconvert_exporter": "python",
   "pygments_lexer": "ipython3",
   "version": "3.12.9"
  }
 },
 "nbformat": 4,
 "nbformat_minor": 2
}
