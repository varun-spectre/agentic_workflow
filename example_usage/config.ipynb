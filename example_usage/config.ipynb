{
 "cells": [
  {
   "cell_type": "code",
   "execution_count": 3,
   "metadata": {},
   "outputs": [
    {
     "name": "stdout",
     "output_type": "stream",
     "text": [
      "Searching docs for: transformer models\n"
     ]
    }
   ],
   "source": [
    "import sys\n",
    "from pathlib import Path\n",
    "sys.path.append(str(Path().absolute().parent))  # Add parent directory to path\n",
    "\n",
    "from src.config import AgentConfig\n",
    "\n",
    "# Example tool\n",
    "def search_docs(query):\n",
    "    return f\"Searching docs for: {query}\"\n",
    "\n",
    "# Create config and register tool\n",
    "config = AgentConfig()\n",
    "config.register_tool(\"search_docs\", search_docs)\n",
    "\n",
    "# Use the tool\n",
    "result = config.use_tool(\"search_docs\", \"transformer models\")\n",
    "print(result)  # -> Searching docs for: transformer models\n"
   ]
  }
 ],
 "metadata": {
  "kernelspec": {
   "display_name": "agent",
   "language": "python",
   "name": "python3"
  },
  "language_info": {
   "codemirror_mode": {
    "name": "ipython",
    "version": 3
   },
   "file_extension": ".py",
   "mimetype": "text/x-python",
   "name": "python",
   "nbconvert_exporter": "python",
   "pygments_lexer": "ipython3",
   "version": "3.12.9"
  }
 },
 "nbformat": 4,
 "nbformat_minor": 2
}
