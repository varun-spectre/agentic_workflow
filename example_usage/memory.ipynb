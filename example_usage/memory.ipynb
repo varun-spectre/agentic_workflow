{
 "cells": [
  {
   "cell_type": "code",
   "execution_count": 1,
   "metadata": {},
   "outputs": [
    {
     "name": "stdout",
     "output_type": "stream",
     "text": [
      "user: Find the average of [1, 2, 3]\n",
      "agent: Sure! Let me plan it.\n",
      "agent: <execute blog> sum([1, 2, 3]) / 3 </execute blog>\n",
      "agent: The average is 2.\n"
     ]
    }
   ],
   "source": [
    "import sys\n",
    "from pathlib import Path\n",
    "sys.path.append(str(Path().absolute().parent))  # Add parent directory to path\n",
    "\n",
    "from src.memory import Memory\n",
    "\n",
    "memory = Memory()\n",
    "\n",
    "memory.add(\"user\", \"Find the average of [1, 2, 3]\")\n",
    "memory.add(\"agent\", \"Sure! Let me plan it.\")\n",
    "memory.add(\"agent\", \"<execute blog> sum([1, 2, 3]) / 3 </execute blog>\")\n",
    "memory.add(\"agent\", \"The average is 2.\")\n",
    "\n",
    "# See full context\n",
    "print(memory.get_context())\n"
   ]
  }
 ],
 "metadata": {
  "kernelspec": {
   "display_name": "agent",
   "language": "python",
   "name": "python3"
  },
  "language_info": {
   "codemirror_mode": {
    "name": "ipython",
    "version": 3
   },
   "file_extension": ".py",
   "mimetype": "text/x-python",
   "name": "python",
   "nbconvert_exporter": "python",
   "pygments_lexer": "ipython3",
   "version": "3.12.9"
  }
 },
 "nbformat": 4,
 "nbformat_minor": 2
}
