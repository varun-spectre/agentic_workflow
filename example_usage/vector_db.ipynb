{
 "cells": [
  {
   "cell_type": "code",
   "execution_count": 4,
   "metadata": {},
   "outputs": [],
   "source": [
    "import sys\n",
    "import uuid\n",
    "from pathlib import Path\n",
    "sys.path.append(str(Path().absolute().parent))  # Add parent directory to path\n",
    "\n",
    "\n",
    "from db_setup.vector_db import VectorDB\n"
   ]
  },
  {
   "cell_type": "code",
   "execution_count": 5,
   "metadata": {},
   "outputs": [
    {
     "name": "stdout",
     "output_type": "stream",
     "text": [
      "🔍 Results: [{'id': '846c877f-7753-4e2b-a1ad-f6dcfb78a7da', 'score': 0.792471, 'payload': {'source': 'demo'}}, {'id': '7544643d-cc0b-4f9f-a2f0-aa2c3f816607', 'score': 0.07523446, 'payload': {'source': 'demo'}}]\n",
      "📦 Total Docs: 3\n",
      "🧾 All IDs: ['7544643d-cc0b-4f9f-a2f0-aa2c3f816607', '80937bf1-b648-426a-aa7a-99884af70877', '846c877f-7753-4e2b-a1ad-f6dcfb78a7da']\n"
     ]
    }
   ],
   "source": [
    "# Initialize\n",
    "db = VectorDB(collection_name=\"demo_qdrant\")\n",
    "\n",
    "# Add documents\n",
    "texts = [\"Qdrant is amazing\", \"Agent setup is fun\", \"Vector search FTW\"]\n",
    "ids = [str(uuid.uuid4()) for _ in texts]\n",
    "meta = [{\"source\": \"demo\"}] * len(texts)\n",
    "\n",
    "db.add_documents(texts, ids, meta)\n",
    "\n",
    "# Query\n",
    "results = db.query(\"setup agent\", n_results=2)\n",
    "print(\"🔍 Results:\", results)\n",
    "\n",
    "# Count\n",
    "print(\"📦 Total Docs:\", db.count_documents())\n",
    "\n",
    "# All IDs\n",
    "print(\"🧾 All IDs:\", db.get_all_ids())"
   ]
  },
  {
   "cell_type": "code",
   "execution_count": null,
   "metadata": {},
   "outputs": [],
   "source": []
  }
 ],
 "metadata": {
  "kernelspec": {
   "display_name": "agent",
   "language": "python",
   "name": "python3"
  },
  "language_info": {
   "codemirror_mode": {
    "name": "ipython",
    "version": 3
   },
   "file_extension": ".py",
   "mimetype": "text/x-python",
   "name": "python",
   "nbconvert_exporter": "python",
   "pygments_lexer": "ipython3",
   "version": "3.12.9"
  }
 },
 "nbformat": 4,
 "nbformat_minor": 2
}
