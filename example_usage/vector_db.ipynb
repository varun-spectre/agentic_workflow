{
 "cells": [
  {
   "cell_type": "code",
   "execution_count": 1,
   "metadata": {},
   "outputs": [],
   "source": [
    "import sys\n",
    "import uuid\n",
    "from pathlib import Path\n",
    "sys.path.append(str(Path().absolute().parent))  # Add parent directory to path\n"
   ]
  },
  {
   "cell_type": "code",
   "execution_count": 2,
   "metadata": {},
   "outputs": [
    {
     "name": "stdout",
     "output_type": "stream",
     "text": [
      "✅ 'reviews' collection created.\n",
      "🔢 Total docs in 'reviews': 4\n",
      "✅ 'support_docs' collection created.\n",
      "🔢 Total docs in 'support_docs': 4\n"
     ]
    }
   ],
   "source": [
    "import uuid\n",
    "from db_setup.vector_db import VectorDB\n",
    "\n",
    "# --- Create & populate \"reviews\" collection ---\n",
    "reviews_db = VectorDB(collection_name=\"reviews\")\n",
    "\n",
    "reviews_texts = [\n",
    "    \"Great product, totally worth the price!\",\n",
    "    \"Support team was very responsive and helpful.\",\n",
    "    \"I had a poor experience, the item was defective.\",\n",
    "    \"Delivery was fast and hassle-free.\"\n",
    "]\n",
    "\n",
    "reviews_ids = [str(uuid.uuid4()) for _ in reviews_texts]\n",
    "reviews_meta = [{\"source\": \"customer_review\"}] * len(reviews_texts)\n",
    "\n",
    "reviews_db.add_documents(reviews_texts, reviews_ids, reviews_meta)\n",
    "\n",
    "print(\"✅ 'reviews' collection created.\")\n",
    "print(\"🔢 Total docs in 'reviews':\", reviews_db.count_documents())\n",
    "\n",
    "\n",
    "# --- Create & populate \"support_docs\" collection ---\n",
    "support_db = VectorDB(collection_name=\"support_docs\")\n",
    "\n",
    "support_texts = [\n",
    "    \"To reset your device, hold the power button for 10 seconds.\",\n",
    "    \"Warranty covers 12 months from the date of purchase.\",\n",
    "    \"Refer to the manual for detailed troubleshooting steps.\",\n",
    "    \"Keep your invoice safe to claim warranty support.\"\n",
    "]\n",
    "\n",
    "support_ids = [str(uuid.uuid4()) for _ in support_texts]\n",
    "support_meta = [{\"source\": \"support_article\"}] * len(support_texts)\n",
    "\n",
    "support_db.add_documents(support_texts, support_ids, support_meta)\n",
    "\n",
    "print(\"✅ 'support_docs' collection created.\")\n",
    "print(\"🔢 Total docs in 'support_docs':\", support_db.count_documents())\n"
   ]
  }
 ],
 "metadata": {
  "kernelspec": {
   "display_name": "agent",
   "language": "python",
   "name": "python3"
  },
  "language_info": {
   "codemirror_mode": {
    "name": "ipython",
    "version": 3
   },
   "file_extension": ".py",
   "mimetype": "text/x-python",
   "name": "python",
   "nbconvert_exporter": "python",
   "pygments_lexer": "ipython3",
   "version": "3.12.9"
  }
 },
 "nbformat": 4,
 "nbformat_minor": 2
}
